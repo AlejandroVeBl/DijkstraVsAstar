{
 "cells": [
  {
   "cell_type": "code",
   "execution_count": 2,
   "metadata": {},
   "outputs": [],
   "source": [
    "Gp=Graph(weighted=True)\n",
    "aristas=[('A','C',36),('B','I',12),('B','J',34),('C','E',45),('C','G',48),('D','G',18),('D','H',36),('E','J',30), ('F','H',40),('G','J',38),('H','J',43)]\n",
    "Gp.add_edges(aristas)"
   ]
  },
  {
   "cell_type": "code",
   "execution_count": 52,
   "metadata": {},
   "outputs": [],
   "source": [
    "def Djkstra(G,s,e):\n",
    "    '''\n",
    "    Caminos mas cortos en un grafo desde uno de sus vértices, usando el algoritmo de Djkstra.\n",
    "    Si el grafo no es ponderado, se convierte a ponderado con peso 1 en las aristas.\n",
    "    \n",
    "    SINTAXIS:  (D,T, camino, iteraciones)=Djkstra(Gp, s, e)\n",
    "    \n",
    "    INPUT:\n",
    "    - G -- un grafo no dirigido (ponderado o no)\n",
    "    - s -- un vértice de G desde el que se calculan las distancias\n",
    "    - e -- un vértice de G que será el vértice fin\n",
    "\n",
    "    \n",
    "    OUTPUT:\n",
    "    - D -- Distancia del camino.\n",
    "    - T -- árbol de camino mínimo desde s a e\n",
    "    - camino -- lista de los vértices del camino\n",
    "    - iteaciones -- número de iteraciones realizadas para sacar el camino\n",
    "    '''\n",
    "    \n",
    "    #Si G no es ponderado poner peso 1 a las aristas\n",
    "    if not G.weighted():\n",
    "        G.weighted(True)\n",
    "        for a in G.edges():\n",
    "            G.set_edge_label(a[0],a[1],1)\n",
    "    \n",
    "    #Controlar si G es conexo\n",
    "    if not G.is_connected():\n",
    "        print(\"El grafo no es conexo.\")\n",
    "        print(\"Se la solución para la componente conexa del vértice de inicio \",s ,\" si no contiene tambien a \", e, \"no hay resultado\")\n",
    "    \n",
    "    cc=G.connected_component_containing_vertex(s)\n",
    "    vtodos=G.vertices()\n",
    "  \n",
    "    \n",
    "    n=G.order()\n",
    "    #Padres=[[] for _ in range(n)] #Inicializar padres de los vértices\n",
    "    Padres=[[] for _ in [0..n-1]] #Inicializar padres de los vértices\n",
    "    #D=[1000000000 for _ in range(n)] #Etiquetas igual a \"infinito\"\n",
    "    D=[1000000000 for _ in [0..n-1]] #Etiquetas igual a \"infinito\"\n",
    "\n",
    "    inds=vtodos.index(s)\n",
    "    D[inds]=0\n",
    "    Q=set(cc)\n",
    "    v=None\n",
    "    iteraciones=0\n",
    "    while len(Q)>0 or v==e:\n",
    "        #Buscamos el vértice de Q con menor etiqueta\n",
    "        low=1000000000\n",
    "        for u in Q:\n",
    "            indu=vtodos.index(u)\n",
    "            if D[indu]<low:\n",
    "                v=u\n",
    "                low=D[indu]\n",
    "        #Actualizamos etiquetas\n",
    "        indv=vtodos.index(v)\n",
    "        Q.remove(v)\n",
    "        Adj=set(G.neighbors(v))\n",
    "        for u in Adj.intersection(Q):\n",
    "            larista=G.edge_label(v,u)\n",
    "            indu=vtodos.index(u)\n",
    "            if D[indu]>D[indv]+larista:\n",
    "                D[indu]=D[indv]+larista\n",
    "                Padres[indu]=[v]\n",
    "        iteraciones+=1\n",
    "   \n",
    "    camino=[e]\n",
    "    hijo = vtodos.index(e)\n",
    "    padreDe=Padres[hijo]\n",
    "    while padreDe:\n",
    "        camino.append(padreDe[0])\n",
    "        hijo = vtodos.index(padreDe[0])\n",
    "        padreDe=Padres[hijo]\n",
    "    \n",
    "    P={}  #Dicionario con los padres de cada vértice\n",
    "    for u in cc:\n",
    "        if u in camino:\n",
    "            indu=vtodos.index(u)\n",
    "            P.setdefault(u,Padres[indu])             \n",
    "    T=Graph(P) #Árbol de camino mínimo\n",
    "    T.weighted(True)\n",
    "    for a in T.edges():\n",
    "        T.set_edge_label(a[0],a[1],G.edge_label(a[0],a[1]))\n",
    "    camino.reverse()\n",
    "    return D[vtodos.index(e)],T, camino, iteraciones"
   ]
  },
  {
   "cell_type": "code",
   "execution_count": 53,
   "metadata": {},
   "outputs": [
    {
     "name": "stdout",
     "output_type": "stream",
     "text": [
      "['A', 'C', 'E']\n"
     ]
    },
    {
     "data": {
      "image/png": "[encoded data removed]",
      "text/plain": [
       "Graphics object consisting of 8 graphics primitives"
      ]
     },
     "execution_count": 53,
     "metadata": {},
     "output_type": "execute_result"
    }
   ],
   "source": [
    "(D,T, camino, iteraciones)=Djkstra(Gp,'A', 'E')\n",
    "print(camino)\n",
    "T.plot(figsize=5,layout='tree',tree_root='A',edge_labels=True)"
   ]
  },
  {
   "cell_type": "code",
   "execution_count": 54,
   "metadata": {},
   "outputs": [
    {
     "name": "stdout",
     "output_type": "stream",
     "text": [
      "['A', 'C', 'E', 'J', 'B', 'I']\n"
     ]
    },
    {
     "data": {
      "image/png": "[encoded data removed]",
      "text/plain": [
       "Graphics object consisting of 17 graphics primitives"
      ]
     },
     "execution_count": 54,
     "metadata": {},
     "output_type": "execute_result"
    }
   ],
   "source": [
    "(D,T, camino, iteraciones)=Djkstra(Gp,'A', 'I')\n",
    "print(camino)\n",
    "T.plot(figsize=5,layout='tree',tree_root='A',edge_labels=True)"
   ]
  },
  {
   "cell_type": "code",
   "execution_count": null,
   "metadata": {},
   "outputs": [],
   "source": []
  }
 ],
 "metadata": {
  "kernelspec": {
   "display_name": "SageMath 9.1",
   "language": "sage",
   "name": "sagemath"
  },
  "language_info": {
   "codemirror_mode": {
    "name": "ipython",
    "version": 3
   },
   "file_extension": ".py",
   "mimetype": "text/x-python",
   "name": "python",
   "nbconvert_exporter": "python",
   "pygments_lexer": "ipython3",
   "version": "3.7.3"
  }
 },
 "nbformat": 4,
 "nbformat_minor": 2
}
