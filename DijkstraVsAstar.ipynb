{
 "cells": [
  {
   "cell_type": "markdown",
   "metadata": {},
   "source": [
    "# Dijkstra vs A*\n"
   ]
  },
  {
   "cell_type": "markdown",
   "metadata": {},
   "source": [
    "## Definición de las funciones\n"
   ]
  },
  {
   "cell_type": "markdown",
   "metadata": {},
   "source": [
    "### Dijkstra"
   ]
  },
  {
   "cell_type": "code",
   "execution_count": 6,
   "metadata": {},
   "outputs": [],
   "source": [
    "def Dijkstra(G,s,e):\n",
    "    '''\n",
    "    Caminos mas cortos en un grafo desde uno de sus vértices, usando el algoritmo de Djkstra.\n",
    "    Si el grafo no es ponderado, se convierte a ponderado con peso 1 en las aristas.\n",
    "    \n",
    "    SINTAXIS:  (D,T, camino, iteraciones)=Dijkstra(Gp, s, e)\n",
    "    \n",
    "    INPUT:\n",
    "    - G -- un grafo no dirigido (ponderado o no)\n",
    "    - s -- un vértice de G desde el que se calculan las distancias\n",
    "    - e -- un vértice de G que será el vértice fin\n",
    "\n",
    "    \n",
    "    OUTPUT:\n",
    "    - D -- Distancia del camino.\n",
    "    - T -- árbol de camino mínimo desde s a e\n",
    "    - camino -- lista de los vértices del camino\n",
    "    - iteraciones -- número de iteraciones realizadas para sacar el camino\n",
    "    '''\n",
    "    \n",
    "    #Si G no es ponderado poner peso 1 a las aristas\n",
    "    if not G.weighted():\n",
    "        G.weighted(True)\n",
    "        for a in G.edges():\n",
    "            G.set_edge_label(a[0],a[1],1)\n",
    "    \n",
    "    #Controlar si G es conexo\n",
    "    if not G.is_connected():\n",
    "        print(\"El grafo no es conexo.\")\n",
    "        print(\"Se la solución para la componente conexa del vértice de inicio \",s ,\" si no contiene tambien a \", e, \"no hay resultado\")\n",
    "    \n",
    "    cc=G.connected_component_containing_vertex(s)\n",
    "    vtodos=G.vertices()\n",
    "  \n",
    "    \n",
    "    n=G.order()\n",
    "    #Padres=[[] for _ in range(n)] #Inicializar padres de los vértices\n",
    "    Padres=[[] for _ in [0..n-1]] #Inicializar padres de los vértices\n",
    "    #D=[1000000000 for _ in range(n)] #Etiquetas igual a \"infinito\"\n",
    "    D=[1000000000 for _ in [0..n-1]] #Etiquetas igual a \"infinito\"\n",
    "\n",
    "    inds=vtodos.index(s)\n",
    "    D[inds]=0\n",
    "    Q=set(cc)\n",
    "    v=None\n",
    "    iteraciones=0\n",
    "    while len(Q)>0 and v!=e:\n",
    "        #Buscamos el vértice de Q con menor etiqueta\n",
    "        low=1000000000\n",
    "        for u in Q:\n",
    "            indu=vtodos.index(u)\n",
    "            if D[indu]<low:\n",
    "                v=u\n",
    "                low=D[indu]\n",
    "        #Actualizamos etiquetas\n",
    "        indv=vtodos.index(v)\n",
    "        Q.remove(v)\n",
    "        Adj=set(G.neighbors(v))\n",
    "        for u in Adj.intersection(Q):\n",
    "            larista=G.edge_label(v,u)\n",
    "            indu=vtodos.index(u)\n",
    "            if D[indu]>D[indv]+larista:\n",
    "                D[indu]=D[indv]+larista\n",
    "                Padres[indu]=[v]\n",
    "        iteraciones+=1\n",
    "   \n",
    "    camino=[e]\n",
    "    hijo = vtodos.index(e)\n",
    "    padreDe=Padres[hijo]\n",
    "    while padreDe:\n",
    "        camino.append(padreDe[0])\n",
    "        hijo = vtodos.index(padreDe[0])\n",
    "        padreDe=Padres[hijo]\n",
    "    \n",
    "    P={}  #Dicionario con los padres de cada vértice\n",
    "    for u in cc:\n",
    "        if u in camino:\n",
    "            indu=vtodos.index(u)\n",
    "            P.setdefault(u,Padres[indu])             \n",
    "    T=Graph(P) #Árbol de camino mínimo\n",
    "    T.weighted(True)\n",
    "    for a in T.edges():\n",
    "        T.set_edge_label(a[0],a[1],G.edge_label(a[0],a[1]))\n",
    "    camino.reverse()\n",
    "    return D[vtodos.index(e)],T, camino, iteraciones"
   ]
  },
  {
   "cell_type": "markdown",
   "metadata": {},
   "source": [
    "### A*"
   ]
  },
  {
   "cell_type": "code",
   "execution_count": 7,
   "metadata": {},
   "outputs": [],
   "source": [
    "def manhattanDistance(P1, P2):\n",
    "    '''\n",
    "    Distancia Manhattan entre dos puntos P1, P2\n",
    "    |x1 - x2| + |y1 - y2|\n",
    "    \n",
    "    SINTAXIS:  distancia=Astar(P1, P2)\n",
    "    \n",
    "    INPUT:\n",
    "    - P1 -- punto 1 (x1,y1)\n",
    "    - P2 -- punto 2 (x2,y2)\n",
    "    \n",
    "    OUTPUT:\n",
    "    - distancia -- Distancia Manhattan de P1 a P2.\n",
    "    '''\n",
    "    return abs(P1[0] - P2[0]) + abs(P1[1] - P2[1])\n",
    "    \n",
    "def Astar(G,s,e):\n",
    "    '''\n",
    "    Caminos mas cortos en un grafo desde uno de sus vértices, usando el algoritmo de A*.\n",
    "    Si el grafo no es ponderado, se convierte a ponderado con peso 1 en las aristas.\n",
    "    \n",
    "    SINTAXIS:  (D,T, camino, iteraciones)=Astar(Gp, s, e)\n",
    "    \n",
    "    INPUT:\n",
    "    - G -- un grafo no dirigido (ponderado o no)\n",
    "    - s -- un vértice de G desde el que se calculan las distancias\n",
    "    - e -- un vértice de G que será el vértice fin\n",
    "\n",
    "    \n",
    "    OUTPUT:\n",
    "    - D -- Distancia del camino.\n",
    "    - T -- árbol de camino mínimo desde s a e\n",
    "    - camino -- lista de los vértices del camino\n",
    "    - iteraciones -- número de iteraciones realizadas para sacar el camino\n",
    "    '''\n",
    "    \n",
    "    #Si G no es ponderado poner peso 1 a las aristas\n",
    "    if not G.weighted():\n",
    "        G.weighted(True)\n",
    "        for a in G.edges():\n",
    "            G.set_edge_label(a[0],a[1],1)\n",
    "    \n",
    "    #Controlar si G es conexo\n",
    "    if not G.is_connected():\n",
    "        print(\"El grafo no es conexo.\")\n",
    "        print(\"Se la solución para la componente conexa del vértice de inicio \",s ,\" si no contiene tambien a \", e, \"no hay resultado\")\n",
    "    \n",
    "    cc=G.connected_component_containing_vertex(s)\n",
    "    vtodos=G.vertices()\n",
    "  \n",
    "    \n",
    "    n=G.order()\n",
    "    #Padres=[[] for _ in range(n)] #Inicializar padres de los vértices\n",
    "    Padres=[[] for _ in [0..n-1]] #Inicializar padres de los vértices\n",
    "    #D=[1000000000 for _ in range(n)] #Etiquetas igual a \"infinito\"\n",
    "    D=[1000000000 for _ in [0..n-1]] #Etiquetas igual a \"infinito\"\n",
    "    \n",
    "    inds=vtodos.index(s)\n",
    "    D[inds]=0\n",
    "    Q=set(cc)\n",
    "    v=None\n",
    "    iteraciones=0\n",
    "    while len(Q)>0 and v!=e:\n",
    "        #Buscamos el vértice de Q con menor etiqueta\n",
    "        low=1000000000\n",
    "        for u in Q:\n",
    "            indu=vtodos.index(u)\n",
    "            hn=manhattanDistance(u,e)  #h(n) de la función f(n) para calcular a qué nodo saltar\n",
    "            fn = D[indu]+hn # g(n)+h(n)\n",
    "            if fn<low:\n",
    "                v=u\n",
    "                low=fn\n",
    "        #Actualizamos etiquetas\n",
    "        indv=vtodos.index(v)\n",
    "        Q.remove(v)\n",
    "        Adj=set(G.neighbors(v))\n",
    "        for u in Adj.intersection(Q):\n",
    "            larista=G.edge_label(v,u)\n",
    "            indu=vtodos.index(u)\n",
    "            if D[indu]>D[indv]+larista:\n",
    "                D[indu]=D[indv]+larista\n",
    "                Padres[indu]=[v]\n",
    "        iteraciones+=1\n",
    "   \n",
    "    camino=[e]\n",
    "    hijo = vtodos.index(e)\n",
    "    padreDe=Padres[hijo]\n",
    "    while padreDe:\n",
    "        camino.append(padreDe[0])\n",
    "        hijo = vtodos.index(padreDe[0])\n",
    "        padreDe=Padres[hijo]\n",
    "    \n",
    "    P={}  #Dicionario con los padres de cada vértice\n",
    "    for u in cc:\n",
    "        if u in camino:\n",
    "            indu=vtodos.index(u)\n",
    "            P.setdefault(u,Padres[indu])             \n",
    "    T=Graph(P) #Árbol de camino mínimo\n",
    "    T.weighted(True)\n",
    "    for a in T.edges():\n",
    "        T.set_edge_label(a[0],a[1],G.edge_label(a[0],a[1]))\n",
    "    camino.reverse()\n",
    "    return D[vtodos.index(e)],T, camino, iteraciones"
   ]
  },
  {
   "cell_type": "markdown",
   "metadata": {},
   "source": [
    "## Ejemplos en grafos malla\n",
    "### Ejemplo malla 20x20"
   ]
  },
  {
   "cell_type": "code",
   "execution_count": 8,
   "metadata": {},
   "outputs": [
    {
     "name": "stdout",
     "output_type": "stream",
     "text": [
      "Camino:  [(0, 0), (0, 1), (0, 2), (0, 3), (0, 4), (0, 5), (0, 6), (0, 7), (0, 8), (0, 9), (0, 10), (1, 10), (2, 10), (3, 10), (3, 11), (4, 11), (5, 11), (6, 11), (7, 11), (8, 11), (8, 12), (8, 13), (8, 14), (9, 14), (10, 14), (10, 15), (11, 15), (12, 15), (13, 15)]\n",
      "Distancia del camino:  28\n",
      "Iteraciones:  344\n",
      "Camino:  [(0, 0), (1, 0), (1, 1), (2, 1), (3, 1), (4, 1), (5, 1), (6, 1), (6, 2), (7, 2), (7, 3), (7, 4), (8, 4), (8, 5), (8, 6), (9, 6), (10, 6), (10, 7), (10, 8), (10, 9), (10, 10), (11, 10), (11, 11), (11, 12), (12, 12), (12, 13), (13, 13), (13, 14), (13, 15)]\n",
      "Distancia del camino:  28\n",
      "Iteraciones:  147\n"
     ]
    }
   ],
   "source": [
    "G = graphs.GridGraph([20,20])\n",
    "#show(G)\n",
    "##\n",
    "\n",
    "(D,T, camino, iteraciones)=Dijkstra(G,(0,0), (13,15))\n",
    "print(\"Camino: \",camino)\n",
    "print(\"Distancia del camino: \",D)\n",
    "print(\"Iteraciones: \",iteraciones)\n",
    "#show(T)\n",
    "##\n",
    "\n",
    "(D,T, camino, iteraciones)=Astar(G,(0,0), (13,15))\n",
    "print(\"Camino: \",camino)\n",
    "print(\"Distancia del camino: \",D)\n",
    "print(\"Iteraciones: \",iteraciones)\n",
    "#show(T)"
   ]
  },
  {
   "cell_type": "code",
   "execution_count": 5,
   "metadata": {},
   "outputs": [
    {
     "name": "stdout",
     "output_type": "stream",
     "text": [
      "Dijkstra:  20 loops, best of 3: 1.05 s per loop\n",
      "A*:  20 loops, best of 3: 767 ms per loop\n"
     ]
    }
   ],
   "source": [
    "G = graphs.GridGraph([20,20])\n",
    "print(\"Dijkstra: \",timeit.eval('(D,T, camino, iteraciones)=Dijkstra(G,(0,0), (13,15))', number=20))\n",
    "print(\"A*: \",timeit.eval('(D,T, camino, iteraciones)=Astar(G,(0,0), (13,15))', number=20))"
   ]
  },
  {
   "cell_type": "markdown",
   "metadata": {},
   "source": [
    "### Ejemplo malla 50x50"
   ]
  },
  {
   "cell_type": "code",
   "execution_count": 15,
   "metadata": {},
   "outputs": [
    {
     "name": "stdout",
     "output_type": "stream",
     "text": [
      "Camino:  [(0, 0), (1, 0), (2, 0), (3, 0), (4, 0), (5, 0), (6, 0), (7, 0), (8, 0), (9, 0), (10, 0), (11, 0), (12, 0), (13, 0), (14, 0), (15, 0), (16, 0), (17, 0), (17, 1), (18, 1), (18, 2), (18, 3), (18, 4), (18, 5), (19, 5), (19, 6), (20, 6), (21, 6), (21, 7), (21, 8), (21, 9), (22, 9), (22, 10), (23, 10), (24, 10), (25, 10), (25, 11), (25, 12), (25, 13), (26, 13), (26, 14), (27, 14), (28, 14), (28, 15), (28, 16), (28, 17), (28, 18), (29, 18), (29, 19), (29, 20), (30, 20), (31, 20), (32, 20), (32, 21), (32, 22), (33, 22), (33, 23), (34, 23), (34, 24), (34, 25), (35, 25), (36, 25), (36, 26), (37, 26), (38, 26), (38, 27), (38, 28), (38, 29), (39, 29), (40, 29), (40, 30)]\n",
      "Distancia del camino:  70\n",
      "Iteraciones:  2069\n",
      "Camino:  [(0, 0), (0, 1), (0, 2), (1, 2), (1, 3), (1, 4), (1, 5), (1, 6), (2, 6), (2, 7), (3, 7), (4, 7), (4, 8), (4, 9), (4, 10), (5, 10), (5, 11), (5, 12), (5, 13), (6, 13), (6, 14), (7, 14), (7, 15), (7, 16), (7, 17), (8, 17), (9, 17), (10, 17), (11, 17), (12, 17), (12, 18), (13, 18), (13, 19), (13, 20), (14, 20), (14, 21), (15, 21), (16, 21), (16, 22), (17, 22), (18, 22), (19, 22), (20, 22), (21, 22), (22, 22), (23, 22), (24, 22), (25, 22), (26, 22), (26, 23), (27, 23), (28, 23), (28, 24), (29, 24), (30, 24), (31, 24), (32, 24), (32, 25), (33, 25), (34, 25), (35, 25), (36, 25), (36, 26), (37, 26), (38, 26), (38, 27), (38, 28), (38, 29), (39, 29), (40, 29), (40, 30)]\n",
      "Distancia del camino:  70\n",
      "Iteraciones:  264\n"
     ]
    }
   ],
   "source": [
    "G = graphs.GridGraph([50,50])\n",
    "#show(G)\n",
    "##\n",
    "\n",
    "(D,T, camino, iteraciones)=Dijkstra(G,(0,0), (40,30))\n",
    "print(\"Camino: \",camino)\n",
    "print(\"Distancia del camino: \",D)\n",
    "print(\"Iteraciones: \",iteraciones)\n",
    "#show(T)\n",
    "##\n",
    "\n",
    "(D,T, camino, iteraciones)=Astar(G,(0,0), (40,30))\n",
    "print(\"Camino: \",camino)\n",
    "print(\"Distancia del camino: \",D)\n",
    "print(\"Iteraciones: \",iteraciones)\n",
    "#show(T)"
   ]
  },
  {
   "cell_type": "code",
   "execution_count": 16,
   "metadata": {},
   "outputs": [
    {
     "name": "stdout",
     "output_type": "stream",
     "text": [
      "Grafo generado\n",
      "Dijkstra:  1 loop, best of 3: 223 s per loop\n",
      "Dijkstra:  1 loop, best of 3: 43.7 s per loop\n"
     ]
    }
   ],
   "source": [
    "G = graphs.GridGraph([50,50])\n",
    "print(\"Grafo generado\")\n",
    "print(\"Dijkstra: \",timeit.eval('(D,T, camino, iteraciones)=Dijkstra(G,(0,0), (40,30))', number=1))\n",
    "print(\"Dijkstra: \",timeit.eval('(D,T, camino, iteraciones)=Astar(G,(0,0), (40,30))', number=1))"
   ]
  },
  {
   "cell_type": "markdown",
   "metadata": {},
   "source": [
    "## Ejemplos en grafos malla con obstáculos\n",
    "### Ejemplo malla 15x15 sin obstáculos"
   ]
  },
  {
   "cell_type": "code",
   "execution_count": 9,
   "metadata": {},
   "outputs": [
    {
     "name": "stdout",
     "output_type": "stream",
     "text": [
      "Camino:  [(0, 0), (0, 1), (0, 2), (0, 3), (0, 4), (0, 5), (0, 6), (0, 7), (0, 8), (0, 9), (0, 10), (0, 11), (0, 12), (0, 13), (0, 14)]\n",
      "Distancia del camino:  14\n",
      "Iteraciones:  106\n",
      "Camino:  [(0, 0), (0, 1), (0, 2), (0, 3), (0, 4), (0, 5), (0, 6), (0, 7), (0, 8), (0, 9), (0, 10), (0, 11), (0, 12), (0, 13), (0, 14)]\n",
      "Distancia del camino:  14\n",
      "Iteraciones:  15\n"
     ]
    }
   ],
   "source": [
    "G = graphs.GridGraph([20,20])\n",
    "##\n",
    "\n",
    "(D,T, camino, iteraciones)=Dijkstra(G,(0,0), (0,14))\n",
    "print(\"Camino: \",camino)\n",
    "print(\"Distancia del camino: \",D)\n",
    "print(\"Iteraciones: \",iteraciones)\n",
    "##\n",
    "\n",
    "(D,T, camino, iteraciones)=Astar(G,(0,0), (0,14))\n",
    "print(\"Camino: \",camino)\n",
    "print(\"Distancia del camino: \",D)\n",
    "print(\"Iteraciones: \",iteraciones)"
   ]
  },
  {
   "cell_type": "markdown",
   "metadata": {},
   "source": [
    "### Ejemplo obstáculo en (0,13)"
   ]
  },
  {
   "cell_type": "code",
   "execution_count": 10,
   "metadata": {},
   "outputs": [
    {
     "name": "stdout",
     "output_type": "stream",
     "text": [
      "Camino:  [(0, 0), (0, 1), (0, 2), (0, 3), (0, 4), (0, 5), (0, 6), (0, 7), (0, 8), (0, 9), (0, 10), (0, 11), (1, 11), (1, 12), (1, 13), (1, 14), (0, 14)]\n",
      "Distancia del camino:  16\n",
      "Iteraciones:  135\n",
      "Camino:  [(0, 0), (0, 1), (0, 2), (0, 3), (0, 4), (0, 5), (0, 6), (0, 7), (0, 8), (0, 9), (0, 10), (0, 11), (0, 12), (1, 12), (1, 13), (1, 14), (0, 14)]\n",
      "Distancia del camino:  16\n",
      "Iteraciones:  26\n"
     ]
    }
   ],
   "source": [
    "G = graphs.GridGraph([20,20])\n",
    "G.delete_vertex((0,13))\n",
    "##\n",
    "\n",
    "(D,T, camino, iteraciones)=Dijkstra(G,(0,0), (0,14))\n",
    "print(\"Camino: \",camino)\n",
    "print(\"Distancia del camino: \",D)\n",
    "print(\"Iteraciones: \",iteraciones)\n",
    "##\n",
    "    \n",
    "(D,T, camino, iteraciones)=Astar(G,(0,0), (0,14))\n",
    "print(\"Camino: \",camino)\n",
    "print(\"Distancia del camino: \",D)\n",
    "print(\"Iteraciones: \",iteraciones)"
   ]
  },
  {
   "cell_type": "markdown",
   "metadata": {},
   "source": [
    "### Ejemplo barrera de (2,0) a (2,8)"
   ]
  },
  {
   "cell_type": "code",
   "execution_count": 12,
   "metadata": {},
   "outputs": [
    {
     "name": "stdout",
     "output_type": "stream",
     "text": [
      "Camino:  [(0, 0), (0, 1), (0, 2), (0, 3), (0, 4), (0, 5), (0, 6), (0, 7), (0, 8), (0, 9), (0, 10), (0, 11), (1, 11), (1, 12), (1, 13), (1, 14), (0, 14)]\n",
      "Distancia del camino:  16\n",
      "Iteraciones:  50\n",
      "Camino:  [(0, 0), (0, 1), (0, 2), (0, 3), (0, 4), (0, 5), (0, 6), (0, 7), (0, 8), (0, 9), (0, 10), (0, 11), (0, 12), (1, 12), (1, 13), (1, 14), (0, 14)]\n",
      "Distancia del camino:  16\n",
      "Iteraciones:  26\n"
     ]
    }
   ],
   "source": [
    "G = graphs.GridGraph([20,20])\n",
    "G.delete_vertex((0,13))\n",
    "for i in [0..8]:\n",
    "    G.delete_vertex((2,i))\n",
    "##\n",
    "\n",
    "(D,T, camino, iteraciones)=Dijkstra(G,(0,0), (0,14))\n",
    "print(\"Camino: \",camino)\n",
    "print(\"Distancia del camino: \",D)\n",
    "print(\"Iteraciones: \",iteraciones)\n",
    "##\n",
    "    \n",
    "(D,T, camino, iteraciones)=Astar(G,(0,0), (0,14))\n",
    "print(\"Camino: \",camino)\n",
    "print(\"Distancia del camino: \",D)\n",
    "print(\"Iteraciones: \",iteraciones)"
   ]
  },
  {
   "cell_type": "code",
   "execution_count": null,
   "metadata": {},
   "outputs": [],
   "source": []
  }
 ],
 "metadata": {
  "kernelspec": {
   "display_name": "SageMath 9.1",
   "language": "sage",
   "name": "sagemath"
  },
  "language_info": {
   "codemirror_mode": {
    "name": "ipython",
    "version": 3
   },
   "file_extension": ".py",
   "mimetype": "text/x-python",
   "name": "python",
   "nbconvert_exporter": "python",
   "pygments_lexer": "ipython3",
   "version": "3.7.3"
  }
 },
 "nbformat": 4,
 "nbformat_minor": 2
}
